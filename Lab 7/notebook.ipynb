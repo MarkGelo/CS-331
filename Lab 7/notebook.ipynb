{
  "cells": [
    {
      "metadata": {
        "state": "normal"
      },
      "cell_type": "markdown",
      "source": "# Lab 07: Stack Applications"
    },
    {
      "metadata": {
        "state": "normal"
      },
      "cell_type": "markdown",
      "source": "## Overview\n\nFor this assignment you will build on the stack data structure created in class to develop two distinct stack-driven applications.\n\nBelow is the completed stack implementation from class. While you needn't modify it for this assignment — indeed, all tests run on our end will *not* make use of any changes you introduce to the `Stack` class — we urge you to read through the code and make sure you understand how it works."
    },
    {
      "metadata": {
        "deletable": false,
        "editable": false,
        "id": "stack_impl",
        "nbgrader": {
          "grade": false,
          "grade_id": "stack_impl",
          "locked": true,
          "schema_version": 1,
          "solution": false
        },
        "state": "read_only",
        "trusted": true
      },
      "cell_type": "code",
      "source": "class Stack:\n    class Node:\n        def __init__(self, val, next=None):\n            self.val = val\n            self.next  = next\n    \n    def __init__(self):\n        self.top = None\n\n    def push(self, val):\n        self.top = Stack.Node(val, self.top)\n        \n    def pop(self):\n        assert self.top, 'Stack is empty'\n        val = self.top.val\n        self.top = self.top.next\n        return val\n    \n    def peek(self):\n        return self.top.val if self.top else None\n    \n    def empty(self):\n        return self.top == None\n    \n    def __bool__(self):\n        return not self.empty()\n    \n    def __repr__(self):\n        if not self.top:\n            return ''\n        return '--> ' + ', '.join(str(x) for x in self)\n    \n    def __iter__(self):\n        n = self.top\n        while n:\n            yield n.val\n            n = n.next",
      "execution_count": 1,
      "outputs": []
    },
    {
      "metadata": {
        "state": "normal"
      },
      "cell_type": "markdown",
      "source": "### 1. Paired delimiter matching\n\nIn class we wrote a function that uses a stack to help determine whether all paired delimiters (e.g., parentheses) in a given string are correctly matched — you can review the code at http://moss.cs.iit.edu/cs331/notebooks/stacks-and-queues.html (look for `check_parens`).\n\nFor this first exercise you will extend our implementation to check all the following paired delimiters: `{}, (), [], <>`. We've defined two strings — `delim_openers` and `delim_closers` — that might come in handy in your implementation (hint: look into using the `index` sequence method).  "
    },
    {
      "metadata": {
        "deletable": false,
        "id": "check_delim",
        "nbgrader": {
          "grade": false,
          "grade_id": "check_delim",
          "locked": false,
          "schema_version": 1,
          "solution": true
        },
        "starter_code": "delim_openers = '{([<'\ndelim_closers = '})]>'\n\ndef check_delimiters(expr):\n    \"\"\"Returns True if and only if `expr` contains only correctly matched delimiters, else returns False.\"\"\"\n    ",
        "state": "graded",
        "trusted": true
      },
      "cell_type": "code",
      "source": "delim_openers = '{([<'\ndelim_closers = '})]>'\n\ndef check_delimiters(expr):\n    \"\"\"Returns True if and only if `expr` contains only correctly matched delimiters, else returns False.\"\"\"\n    s = Stack()\n    for x in expr:\n        if x in delim_openers:\n            s.push(x)\n        elif x in delim_closers:\n            if s.empty(): #stack is empty before it gets through everything\n                return False\n            else:\n                out = s.pop()\n            oidx = delim_openers.index(out)\n            cidx = delim_closers.index(x)\n            if oidx != cidx:\n                return False\n    return s.empty()\n    ",
      "execution_count": 2,
      "outputs": []
    },
    {
      "metadata": {
        "deletable": false,
        "editable": false,
        "id": "check_delim_1",
        "nbgrader": {
          "grade": true,
          "grade_id": "check_delim_1",
          "locked": true,
          "points": 1,
          "schema_version": 1,
          "solution": false
        },
        "state": "read_only",
        "trusted": true
      },
      "cell_type": "code",
      "source": "# (1 point)\n\nfrom unittest import TestCase\ntc = TestCase()\ntc.assertTrue(check_delimiters('()'))\ntc.assertTrue(check_delimiters('[]'))\ntc.assertTrue(check_delimiters('{}'))\ntc.assertTrue(check_delimiters('<>'))",
      "execution_count": 3,
      "outputs": []
    },
    {
      "metadata": {
        "deletable": false,
        "editable": false,
        "id": "check_delim_2",
        "nbgrader": {
          "grade": true,
          "grade_id": "check_delim_2",
          "locked": true,
          "points": 1,
          "schema_version": 1,
          "solution": false
        },
        "state": "read_only",
        "trusted": true
      },
      "cell_type": "code",
      "source": "# (1 point)\n\nfrom unittest import TestCase\ntc = TestCase()\ntc.assertTrue(check_delimiters('([])'))\ntc.assertTrue(check_delimiters('[{}]'))\ntc.assertTrue(check_delimiters('{<()>}'))\ntc.assertTrue(check_delimiters('<({[]})>'))",
      "execution_count": 4,
      "outputs": []
    },
    {
      "metadata": {
        "deletable": false,
        "editable": false,
        "id": "check_delim_3",
        "nbgrader": {
          "grade": true,
          "grade_id": "check_delim_3",
          "locked": true,
          "points": 2,
          "schema_version": 1,
          "solution": false
        },
        "state": "read_only",
        "trusted": true
      },
      "cell_type": "code",
      "source": "# (2 points)\n\nfrom unittest import TestCase\ntc = TestCase()\ntc.assertTrue(check_delimiters('([] () <> [])'))\ntc.assertTrue(check_delimiters('[{()} [] (<> <>) {}]'))\ntc.assertTrue(check_delimiters('{} <> () []'))\ntc.assertTrue(check_delimiters('<> ([] <()>) <[] [] <> <>>'))",
      "execution_count": 5,
      "outputs": []
    },
    {
      "metadata": {
        "deletable": false,
        "editable": false,
        "id": "check_delim_4",
        "nbgrader": {
          "grade": true,
          "grade_id": "check_delim_4",
          "locked": true,
          "points": 1,
          "schema_version": 1,
          "solution": false
        },
        "state": "read_only",
        "trusted": true
      },
      "cell_type": "code",
      "source": "# (1 point)\n\nfrom unittest import TestCase\ntc = TestCase()\ntc.assertFalse(check_delimiters('('))\ntc.assertFalse(check_delimiters('['))\ntc.assertFalse(check_delimiters('{'))\ntc.assertFalse(check_delimiters('<'))\ntc.assertFalse(check_delimiters(')'))\ntc.assertFalse(check_delimiters(']'))\ntc.assertFalse(check_delimiters('}'))\ntc.assertFalse(check_delimiters('>'))",
      "execution_count": 6,
      "outputs": []
    },
    {
      "metadata": {
        "deletable": false,
        "editable": false,
        "id": "check_delim_5",
        "nbgrader": {
          "grade": true,
          "grade_id": "check_delim_5",
          "locked": true,
          "points": 1,
          "schema_version": 1,
          "solution": false
        },
        "state": "read_only",
        "trusted": true
      },
      "cell_type": "code",
      "source": "# (1 point)\n\nfrom unittest import TestCase\ntc = TestCase()\ntc.assertFalse(check_delimiters('( ]'))\ntc.assertFalse(check_delimiters('[ )'))\ntc.assertFalse(check_delimiters('{ >'))\ntc.assertFalse(check_delimiters('< )'))",
      "execution_count": 7,
      "outputs": []
    },
    {
      "metadata": {
        "deletable": false,
        "editable": false,
        "id": "check_delim_6",
        "nbgrader": {
          "grade": true,
          "grade_id": "check_delim_6",
          "locked": true,
          "points": 2,
          "schema_version": 1,
          "solution": false
        },
        "state": "read_only",
        "trusted": true
      },
      "cell_type": "code",
      "source": "# (2 points)\n\nfrom unittest import TestCase\ntc = TestCase()\ntc.assertFalse(check_delimiters('[ ( ] )'))\ntc.assertFalse(check_delimiters('((((((( ))))))'))\ntc.assertFalse(check_delimiters('< < > > >'))\ntc.assertFalse(check_delimiters('( [] < {} )'))",
      "execution_count": 8,
      "outputs": []
    },
    {
      "metadata": {
        "state": "normal"
      },
      "cell_type": "markdown",
      "source": "### 2. Infix &rarr; Postfix conversion\n\nAnother function we looked at was one that used a stack to evaluate a postfix arithmetic expression — you can review the code at http://moss.cs.iit.edu/cs331/notebooks/stacks-and-queues.html (look for `eval_postfix`). Because most of us are more accustomed to infix-form arithmetic expressions (e.g., `2 * (3 + 4)`), however, the function seems to be of limited use. The good news: we can use a stack to convert an infix expression to postfix form!\n\nTo do so, we will use the following algorithm:\n\n1. Start with an empty list and an empty stack. At the end of the algorithm, the list will contain the correctly ordered tokens of the postfix expression.\n\n2. Next, for each token in the expression (split on whitespace):\n\n    - if the token is a digit (the string `isdigit` method can be used to determine this), simply append it to the list; else, the token must be either an operator or an opening or closing parenthesis, in which case apply one of the following options:\n\n    - if the stack is empty or contains a left parenthesis on top, push the token onto the stack.\n\n    - if the token is a left parenthesis, push it on the stack.\n\n    - if the token is a right parenthesis, pop the stack and append all operators to the list until a left parenthesis is popped. Discard the pair of parentheses.\n\n    - if the token has higher precedence than the top of the stack, push it on the stack. For our purposes, the only operators are +, -, *, /, where the latter two have higher precedecence than the first two.\n\n    - if the token has equal precedence with the top of the stack, pop and append the top of the stack to the list and then push the incoming operator.\n\n    - if the incoming symbol has lower precedence than the symbol on the top of the stack, pop the stack and append it to the list. Then repeat the above tests against the new top of stack.\n\n3. After arriving at the end of the expression, pop and append all operators on the stack to the list.\n\nA writeup containing a detailed explanation of the steps above (though it prints the tokens immediately rather than adding them to a list) can be found at http://csis.pace.edu/~wolf/CS122/infix-postfix.htm"
    },
    {
      "metadata": {
        "deletable": false,
        "id": "infix_to_postfix",
        "nbgrader": {
          "grade": false,
          "grade_id": "infix_to_postfix",
          "locked": false,
          "schema_version": 1,
          "solution": true
        },
        "starter_code": "# you may find the following precedence dictionary useful\nprec = {'*': 2, '/': 2,\n        '+': 1, '-': 1}\n\ndef infix_to_postfix(expr):\n    \"\"\"Returns the postfix form of the infix expression found in `expr`\"\"\"\n    ops = Stack()\n    postfix = []\n    toks = expr.split()\n    \n    return ' '.join(postfix)",
        "state": "graded",
        "trusted": true
      },
      "cell_type": "code",
      "source": "# you may find the following precedence dictionary useful\nprec = {'*': 2, '/': 2,\n        '+': 1, '-': 1}\n\ndef infix_to_postfix(expr):\n    \"\"\"Returns the postfix form of the infix expression found in `expr`\"\"\"\n    ops = Stack()\n    postfix = []\n    toks = expr.split()\n    for x in toks:\n        if str.isdigit(x):\n            postfix.append(x)\n        elif ops.empty() or x == '(' or ops.peek() == '(':\n            ops.push(x)\n        elif x == ')':\n            while ops.peek() != '(':\n                pop = ops.pop()\n                postfix.append(pop)\n            ops.pop() #discards the last parenthesis\n        elif prec[x] > prec[ops.peek()]:\n            ops.push(x)\n        elif prec[x] == prec[ops.peek()]:\n            pop = ops.pop()\n            postfix.append(pop)\n            ops.push(x)\n        elif prec[x] < prec[ops.peek()]:\n            #if the incoming symbol has lower precedence \n            #than the symbol on the top of the stack, \n            #pop the stack and append it to the list. \n            #Then repeat the above tests against the new top of stack.?\n            pop = ops.pop()\n            postfix.append(pop)\n            ops.push(x)\n    while not ops.empty():\n        pop = ops.pop()\n        postfix.append(pop)\n    return ' '.join(postfix)",
      "execution_count": 17,
      "outputs": []
    },
    {
      "metadata": {
        "deletable": false,
        "editable": false,
        "id": "i_to_p_tests_1",
        "nbgrader": {
          "grade": true,
          "grade_id": "i_to_p_tests_1",
          "locked": true,
          "points": 3,
          "schema_version": 1,
          "solution": false
        },
        "state": "read_only",
        "trusted": true
      },
      "cell_type": "code",
      "source": "# (3 points)\n\nfrom unittest import TestCase\ntc = TestCase()\ntc.assertEqual(infix_to_postfix('1'), '1')\ntc.assertEqual(infix_to_postfix('1 + 2'), '1 2 +')\ntc.assertEqual(infix_to_postfix('( 1 + 2 )'), '1 2 +')\ntc.assertEqual(infix_to_postfix('1 + 2 - 3'), '1 2 + 3 -')\ntc.assertEqual(infix_to_postfix('1 + ( 2 - 3 )'), '1 2 3 - +')",
      "execution_count": 18,
      "outputs": []
    },
    {
      "metadata": {
        "deletable": false,
        "editable": false,
        "id": "i_to_p_tests_2",
        "nbgrader": {
          "grade": true,
          "grade_id": "i_to_p_tests_2",
          "locked": true,
          "points": 3,
          "schema_version": 1,
          "solution": false
        },
        "state": "read_only",
        "trusted": true
      },
      "cell_type": "code",
      "source": "# (3 points)\n\nfrom unittest import TestCase\ntc = TestCase()\ntc.assertEqual(infix_to_postfix('1 + 2 * 3'), '1 2 3 * +')\ntc.assertEqual(infix_to_postfix('1 / 2 + 3 * 4'), '1 2 / 3 4 * +')\ntc.assertEqual(infix_to_postfix('1 * 2 * 3 + 4'), '1 2 * 3 * 4 +')\ntc.assertEqual(infix_to_postfix('1 + 2 * 3 * 4'), '1 2 3 * 4 * +')",
      "execution_count": 19,
      "outputs": []
    },
    {
      "metadata": {
        "deletable": false,
        "editable": false,
        "id": "i_to_p_tests_3",
        "nbgrader": {
          "grade": true,
          "grade_id": "i_to_p_tests_3",
          "locked": true,
          "points": 3,
          "schema_version": 1,
          "solution": false
        },
        "state": "read_only",
        "trusted": true
      },
      "cell_type": "code",
      "source": "# (3 points)\n\nfrom unittest import TestCase\ntc = TestCase()\ntc.assertEqual(infix_to_postfix('1 * ( 2 + 3 ) * 4'), '1 2 3 + * 4 *')\ntc.assertEqual(infix_to_postfix('1 * ( 2 + 3 * 4 ) + 5'), '1 2 3 4 * + * 5 +')\ntc.assertEqual(infix_to_postfix('1 * ( ( 2 + 3 ) * 4 ) * ( 5 - 6 )'), '1 2 3 + 4 * * 5 6 - *')",
      "execution_count": 20,
      "outputs": []
    }
  ],
  "metadata": {
    "kernelspec": {
      "name": "python3",
      "display_name": "Python 3",
      "language": "python"
    },
    "language_info": {
      "name": "python",
      "version": "3.7.3",
      "mimetype": "text/x-python",
      "codemirror_mode": {
        "name": "ipython",
        "version": 3
      },
      "pygments_lexer": "ipython3",
      "nbconvert_exporter": "python",
      "file_extension": ".py"
    },
    "mimir": {
      "project_id": "304a0926-ae8f-4b4d-8984-c863fa47590b",
      "last_submission_id": "",
      "data": {}
    },
    "varInspector": {
      "window_display": false,
      "cols": {
        "lenName": 16,
        "lenType": 16,
        "lenVar": 40
      },
      "kernels_config": {
        "python": {
          "library": "var_list.py",
          "delete_cmd_prefix": "del ",
          "delete_cmd_postfix": "",
          "varRefreshCmd": "print(var_dic_list())"
        },
        "r": {
          "library": "var_list.r",
          "delete_cmd_prefix": "rm(",
          "delete_cmd_postfix": ") ",
          "varRefreshCmd": "cat(var_dic_list()) "
        }
      },
      "types_to_exclude": [
        "module",
        "function",
        "builtin_function_or_method",
        "instance",
        "_Feature"
      ]
    }
  },
  "nbformat": 4,
  "nbformat_minor": 2
}