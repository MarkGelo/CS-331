{
  "cells": [
    {
      "metadata": {
        "state": "normal"
      },
      "cell_type": "markdown",
      "source": "# Lab 06: Ordered Hashtable\n\n## Overview\n\nFor this assignment you will update and complete the implementation of the hashtable data structure presented in class, which exposes an API mirroring that of the built-in Python `dict`. When iterating over its contents (supported by the `__iter__`, `keys`, `values`, and `items` methods), your updated implementation will also reflect the order in which key/value pairs were originally inserted into the hashtable. This will require that you implement the two-tiered list system described during lecture.\n\nThe operations you will implement are listed alongside their descriptions below (`h` refers to a hashtable):\n\n| Operation | Description |\n|-----------|-------------|\n| `h[k]`&nbsp;`=`&nbsp;`v` | If `h` does not contain key `k`, a new `k`&rightarrow;`v` mapping is added, else the value for key `k` is updated to `v`. |\n| `h[k]`    | If `h` contains key `k`, the corresponding value is returned, else a `KeyError` is raised. |\n| `del`&nbsp;`h[k]` | If `h` contains key `k`, it is removed along with its value, else a `KeyError` is raised. Note that if `k` is re-inserted at some later point it is considered a new key (for ordering purposes). |\n| `k`&nbsp;`in`&nbsp;`h` | Returns `True` if key `k` is in `h`. |\n| `len(h)` | Returns the number of keys in `h`. |\n| `iter(h)` | Returns an iterator over all the keys in `h`, in the order they were added. |\n| `h.keys()` | (Same as above) |\n| `h.values()` | Returns an iterator over all the values in `h`, in the order they were added. |\n| `h.items()` | Returns an iterator over all the key/value pairs (as tuples) in `h`, in the order they were added. |\n\nYour hashtable will be provided with the initial number of buckets on creation (i.e., in `__init__`); your implementation must heed this value, as there may be performance ramifications if it does not."
    },
    {
      "metadata": {
        "deletable": false,
        "id": "hashtable",
        "nbgrader": {
          "grade": false,
          "grade_id": "hashtable",
          "locked": false,
          "schema_version": 1,
          "solution": true
        },
        "starter_code": "class OrderedHashtable:\n    class Node:\n        \"\"\"This class is used to create nodes in the singly linked \"chains\" in\n        each hashtable bucket.\"\"\"\n        def __init__(self, index, next=None):\n            # don't rename the following attributes!\n            self.index = index\n            self.next = next\n        \n    def __init__(self, n_buckets=1000):\n        # the following two variables should be used to implement the \"two-tiered\" \n        # ordered hashtable described in class -- don't rename them!\n        self.indices = [None] * n_buckets\n        self.entries = []\n        self.count = 0\n        \n    def __getitem__(self, key):\n        \n    \n    def __setitem__(self, key, val):\n        \n    \n    def __delitem__(self, key):\n        \n        \n    def __contains__(self, key):\n        try:\n            _ = self[key]\n            return True\n        except:\n            return False\n        \n    def __len__(self):\n        return self.count\n    \n    def __iter__(self):\n        \n        \n    def keys(self):\n        return iter(self)\n    \n    def values(self):\n        \n                \n    def items(self):\n        \n                \n    def __str__(self):\n        return '{ ' + ', '.join(str(k) + ': ' + str(v) for k, v in self.items()) + ' }'\n            \n    def __repr__(self):\n        return str(self)",
        "state": "graded",
        "trusted": true
      },
      "cell_type": "code",
      "source": "class OrderedHashtable:\n    class Node:\n        \"\"\"This class is used to create nodes in the singly linked \"chains\" in\n        each hashtable bucket.\"\"\"\n        def __init__(self, index, next=None):\n            # don't rename the following attributes!\n            self.index = index\n            self.next = next\n        \n    def __init__(self, n_buckets=1000):\n        # the following two variables should be used to implement the \"two-tiered\" \n        # ordered hashtable described in class -- don't rename them!\n        self.indices = [None] * n_buckets\n        self.entries = []\n        self.count = 0\n        \n    def __getitem__(self, key):\n        idx = hash(key) % len(self.indices)\n        val = self.indices[idx]\n        while val: #if val is a node\n            entry = self.entries[val.index]\n            if entry[0] == key:\n                return entry[1]\n            val = val.next\n        raise KeyError\n    \n    def __setitem__(self, key, val):\n        idx = hash(key) % len(self.indices)\n        indexEntry = len(self.entries)\n        if self.indices[idx] is None:\n            self.indices[idx] = OrderedHashtable.Node(indexEntry, None)\n            self.entries.append([key, val])\n            self.count += 1\n        else: #node\n            validx = self.indices[idx]\n            while validx:\n                entry = self.entries[validx.index]\n                if entry[0] == key: #change value\n                    entry[1] = val\n                    break\n                if validx.next is None: #add value\n                    validx.next = OrderedHashtable.Node(indexEntry, None)\n                    self.entries.append([key, val])\n                    self.count += 1\n                    break\n                validx = validx.next\n                \n    def __delitem__(self, key):\n        idx = hash(key) % len(self.indices)\n        n = self.indices[idx]\n        entry = self.entries[n.index]\n        if entry[0] == key:\n            del self.entries[n.index]\n            delindex = n.index\n            if n.next:\n                self.indices[idx] = n.next\n            else:\n                self.indices[idx] = None\n            self.count -= 1\n        else:\n            while n:\n                last = n\n                n = n.next\n                if self.entries[n.index][0] == key:\n                    del self.entries[n.index]\n                    delindex = n.index\n                    last.next = n.next\n                    self.count -= 1\n                    break\n            else:\n                raise KeyError\n        for x in self.indices: #shift indices by one\n            while x:\n                if x.index > delindex:\n                      x.index -= 1\n                x = x.next\n        \n    def __contains__(self, key):\n        try:\n            _ = self[key]\n            return True\n        except:\n            return False\n        \n    def __len__(self):\n        return self.count\n    \n    def __iter__(self):\n        for i in self.entries:\n            yield i[0]\n        \n        \n    def keys(self):\n        return iter(self)\n    \n    def values(self):\n        for i in self.entries:\n            yield i[1]\n        \n                \n    def items(self):\n        for i in self.entries:\n            yield tuple(i)\n        \n                \n    def __str__(self):\n        return '{ ' + ', '.join(str(k) + ': ' + str(v) for k, v in self.items()) + ' }'\n            \n    def __repr__(self):\n        return str(self)",
      "execution_count": 45,
      "outputs": []
    },
    {
      "metadata": {
        "deletable": false,
        "editable": false,
        "id": "tests_short",
        "nbgrader": {
          "grade": true,
          "grade_id": "tests_short",
          "locked": true,
          "points": 3,
          "schema_version": 1,
          "solution": false
        },
        "scrolled": true,
        "state": "read_only",
        "trusted": true
      },
      "cell_type": "code",
      "source": "# (3 tests) Short tests\n\nfrom unittest import TestCase\nimport random\n\ntc = TestCase()\n\nht = OrderedHashtable(2)\n\nfor k, v in (('batman', 'bruce wayne'), ('superman', 'clark kent'), ('spiderman', 'peter parker')):\n    ht[k] = v\n    \ntc.assertEqual(len(ht), 3)\n\ntc.assertEqual(ht['superman'], 'clark kent')\n\ntc.assertTrue('spiderman' in ht)\ntc.assertFalse('iron man' in ht)\n\nwith tc.assertRaises(KeyError):\n    ht['iron man']",
      "execution_count": 46,
      "outputs": []
    },
    {
      "metadata": {
        "deletable": false,
        "editable": false,
        "id": "tests_basic",
        "nbgrader": {
          "grade": true,
          "grade_id": "tests_basic",
          "locked": true,
          "points": 3,
          "schema_version": 1,
          "solution": false
        },
        "state": "read_only",
        "trusted": true
      },
      "cell_type": "code",
      "source": "# (3 points) Basic tests (insertion, fetch, count, chain-lengths)\n\nfrom unittest import TestCase\nimport random\n\ntc = TestCase()\n\nclass MyInt(int):\n    def __hash__(self):\n        \"\"\"MyInts hash to themselves — already current Python default, \n        but just to ensure consistency.\"\"\"\n        return self\n    \ndef ll_len(l):\n    \"\"\"Returns the length of a linked list with head `l` (assuming no sentinel)\"\"\"\n    c = 0\n    while l:\n        c += 1\n        l = l.next\n    return c\n    \nht = OrderedHashtable(10)\nfor i in range(25):\n    ht[MyInt(i)] = i*2\n\ntc.assertEqual(len(ht), 25)\n\nfor i in range(5):\n    tc.assertEqual(ll_len(ht.indices[i]), 3)\n    \nfor i in range(5, 10):\n    tc.assertEqual(ll_len(ht.indices[i]), 2)\n\nfor i in range(25):\n    tc.assertTrue(MyInt(i) in ht)\n    tc.assertEqual(ht[MyInt(i)], i*2)",
      "execution_count": 47,
      "outputs": []
    },
    {
      "metadata": {
        "deletable": false,
        "editable": false,
        "id": "tests_update",
        "nbgrader": {
          "grade": true,
          "grade_id": "tests_update",
          "locked": true,
          "points": 3,
          "schema_version": 1,
          "solution": false
        },
        "state": "read_only",
        "trusted": true
      },
      "cell_type": "code",
      "source": "# (3 points) Update testing\n\nfrom unittest import TestCase\nimport random\n\ntc = TestCase()\n\nht = OrderedHashtable(100)\nd = {}\n\nfor i in range(100):\n    k, v = str(i), str(i*2)\n    d[k] = v\n    ht[k] = v\n    \nfor j in range(0, 100, 2):\n    k, v = str(i), str(i*3)\n    d[k] = v\n    ht[k] = v\n    \nfor j in range(0, 100, 4):\n    k, v = str(i), str(i*4)\n    d[k] = v\n    ht[k] = v\n    \nfor i in range(100):\n    tc.assertTrue(k in ht)\n    tc.assertEqual(d[k], ht[k])",
      "execution_count": 48,
      "outputs": []
    },
    {
      "metadata": {
        "deletable": false,
        "editable": false,
        "id": "tests_delete",
        "nbgrader": {
          "grade": true,
          "grade_id": "tests_delete",
          "locked": true,
          "points": 3,
          "schema_version": 1,
          "solution": false
        },
        "state": "read_only",
        "trusted": true
      },
      "cell_type": "code",
      "source": "# (3 points) Deletion testing\n\nfrom unittest import TestCase\nimport random\n\ntc = TestCase()\n\nht = OrderedHashtable(100)\nd = {}\n\nfor i in range(100):\n    k, v = str(i), str(random.randrange(10000000, 99999999))\n    d[k] = v\n    ht[k] = v\n\nfor _ in range(50):\n    k = str(random.randrange(100))\n    if k in d:\n        del d[k]\n        del ht[k]\n\ntc.assertEqual(len(ht), len(d))\n\nfor k,v in ht.items():\n    tc.assertEqual(d[k], v)",
      "execution_count": 49,
      "outputs": []
    },
    {
      "metadata": {
        "deletable": false,
        "editable": false,
        "id": "tests_ordering",
        "nbgrader": {
          "grade": true,
          "grade_id": "tests_ordering",
          "locked": true,
          "points": 4,
          "schema_version": 1,
          "solution": false
        },
        "state": "read_only",
        "trusted": true
      },
      "cell_type": "code",
      "source": "# (4 points) Iteration order testing\n\nfrom unittest import TestCase\nimport random\n\ntc = TestCase()\n\nht = OrderedHashtable(1000)\nl = [str(i) for i in range(0, 1000)]\nrandom.shuffle(l)\n\nfor x in l:\n    ht[x] = x\n\nfor _ in range(50):\n    idx_to_del = random.randrange(len(l))\n    val_to_del = l[idx_to_del]\n    del ht[val_to_del]\n    del l[idx_to_del]\n    if random.randrange(2) == 0:\n        l.append(val_to_del)\n        ht[val_to_del] = val_to_del\n\nfor x, y in zip(l, ht):\n    tc.assertEqual(x, y)",
      "execution_count": 50,
      "outputs": []
    },
    {
      "metadata": {
        "deletable": false,
        "editable": false,
        "id": "tests_stress",
        "nbgrader": {
          "grade": true,
          "grade_id": "tests_stress",
          "locked": true,
          "points": 4,
          "schema_version": 1,
          "solution": false
        },
        "state": "read_only",
        "trusted": true
      },
      "cell_type": "code",
      "source": "# (4 points) Stress testing\n\nfrom unittest import TestCase\nfrom time import time\nimport random\n\ntc = TestCase()\n\nht = OrderedHashtable(100000)\nd = {}\n\nstart = time()\n\nfor _ in range(100000):\n    k, v = str(random.randrange(100000)), str(random.randrange(10000000, 99999999))\n    d[k] = v\n    ht[k] = v\n    \nfor k,v in d.items():\n    tc.assertTrue(k in ht)\n    tc.assertEqual(d[k], ht[k])\n    \nend = time()\nprint(end-start)\ntc.assertLess(end-start, 1.5, 'Your implementation ran too slow!')",
      "execution_count": 51,
      "outputs": [
        {
          "output_type": "stream",
          "text": "0.7317445278167725\n",
          "name": "stdout"
        }
      ]
    }
  ],
  "metadata": {
    "kernelspec": {
      "name": "python3",
      "display_name": "Python 3",
      "language": "python"
    },
    "language_info": {
      "name": "python",
      "version": "3.7.3",
      "mimetype": "text/x-python",
      "codemirror_mode": {
        "name": "ipython",
        "version": 3
      },
      "pygments_lexer": "ipython3",
      "nbconvert_exporter": "python",
      "file_extension": ".py"
    },
    "mimir": {
      "project_id": "f00a9d05-04d2-4d2e-9259-d657bb880022",
      "last_submission_id": "",
      "data": {}
    },
    "varInspector": {
      "window_display": false,
      "cols": {
        "lenName": 16,
        "lenType": 16,
        "lenVar": 40
      },
      "kernels_config": {
        "python": {
          "library": "var_list.py",
          "delete_cmd_prefix": "del ",
          "delete_cmd_postfix": "",
          "varRefreshCmd": "print(var_dic_list())"
        },
        "r": {
          "library": "var_list.r",
          "delete_cmd_prefix": "rm(",
          "delete_cmd_postfix": ") ",
          "varRefreshCmd": "cat(var_dic_list()) "
        }
      },
      "types_to_exclude": [
        "module",
        "function",
        "builtin_function_or_method",
        "instance",
        "_Feature"
      ]
    }
  },
  "nbformat": 4,
  "nbformat_minor": 2
}