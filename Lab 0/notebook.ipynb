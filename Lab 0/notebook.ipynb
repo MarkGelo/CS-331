{
  "cells": [
    {
      "metadata": {
        "state": "normal"
      },
      "cell_type": "markdown",
      "source": "# Lab 00: Preliminaries"
    },
    {
      "metadata": {
        "state": "normal"
      },
      "cell_type": "markdown",
      "source": "Welcome to **CS 331: Data Structures and Algorithms**!\n\nYou will be using [Project Jupyter](https://jupyter.org) — a platform which provides interactive, in-browser Python development environments known as \"notebooks\" — to work on all lab assignments for this class. These notebooks will be hosted, submitted, and graded on Mimir, the website you're currently logged into. \n\nThis first lab is intended to briefly acquaint you with how to submit notebook assignments on Mimir. We will go over the details of how to use Jupyter notebooks for Python development in class."
    },
    {
      "metadata": {
        "state": "normal"
      },
      "cell_type": "markdown",
      "source": "## Exercise 1\n\nEach lab notebook will contain one or more coding exercises followed by tests. Your job is to complete these exercises — adhering to any criteria given — such that they pass all the tests. Additional tests may also be run when you submit the notebook for grading. Your score is typically available immediately, and you may resubmit your work as many times as you wish (with a 5-minute cooldown period) before the deadline. \n\nBecause we haven't gone over any Python syntax in class yet, we'll keep this exercise really simple. To complete this exercise, change the body of the following function so that it returns a palindrome — a string that reads the same backwards as forwards — of your choice. The palindrome has to be at least 2 letters long!"
    },
    {
      "metadata": {
        "deletable": false,
        "id": "my_palindrome",
        "starter_code": "def my_palindrome():\n    return ''",
        "state": "graded",
        "trusted": false
      },
      "cell_type": "code",
      "source": "def my_palindrome():\n    return 'racecar'",
      "execution_count": 28,
      "outputs": []
    },
    {
      "metadata": {
        "state": "normal"
      },
      "cell_type": "markdown",
      "source": "After completing the implementation, you can run the following test cell by selecting it and hitting `Shift-Enter` (hold down the `Shift` key and hit `Enter`). If all tests pass, you'll see no output. Otherwise, check out the error shown, fix your implementation, and run the test cell again."
    },
    {
      "metadata": {
        "deletable": false,
        "editable": false,
        "id": "test",
        "state": "read_only",
        "trusted": false
      },
      "cell_type": "code",
      "source": "pal = my_palindrome()\nassert isinstance(pal, str), 'Must return a string'\nassert pal.strip(), 'String should not be empty'\nassert len(pal) > 1, 'String should be at least 2 letters long'\nassert pal == pal[::-1], 'String is not a palindrome'",
      "execution_count": 29,
      "outputs": []
    },
    {
      "metadata": {
        "state": "normal"
      },
      "cell_type": "markdown",
      "source": "When done, click the \"Submit Notebook\" button at the top of the screen and then on the lab title (\"Lab 00\") in the resulting popup menu. You should get a \"Submission Successful\" notification, and a link you can use to inspect your submission that the resulting score.\n\nThat's it! See you in class!"
    }
  ],
  "metadata": {
    "kernelspec": {
      "name": "python3",
      "display_name": "Python 3",
      "language": "python"
    },
    "language_info": {
      "name": "python",
      "version": "3.7.3",
      "mimetype": "text/x-python",
      "codemirror_mode": {
        "name": "ipython",
        "version": 3
      },
      "pygments_lexer": "ipython3",
      "nbconvert_exporter": "python",
      "file_extension": ".py"
    },
    "mimir": {
      "project_id": "50fd808a-d4d8-4a46-9bf3-bed12193f796",
      "last_submission_id": "effd67fe-aa0d-438a-bd17-cd286bb98fa1",
      "data": {}
    },
    "varInspector": {
      "window_display": false,
      "cols": {
        "lenName": 16,
        "lenType": 16,
        "lenVar": 40
      },
      "kernels_config": {
        "python": {
          "library": "var_list.py",
          "delete_cmd_prefix": "del ",
          "delete_cmd_postfix": "",
          "varRefreshCmd": "print(var_dic_list())"
        },
        "r": {
          "library": "var_list.r",
          "delete_cmd_prefix": "rm(",
          "delete_cmd_postfix": ") ",
          "varRefreshCmd": "cat(var_dic_list()) "
        }
      },
      "types_to_exclude": [
        "module",
        "function",
        "builtin_function_or_method",
        "instance",
        "_Feature"
      ]
    }
  },
  "nbformat": 4,
  "nbformat_minor": 2
}