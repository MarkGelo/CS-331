{
  "cells": [
    {
      "metadata": {
        "state": "normal"
      },
      "cell_type": "markdown",
      "source": "# Lab 08: Circular, Array-backed Queue"
    },
    {
      "metadata": {
        "state": "normal"
      },
      "cell_type": "markdown",
      "source": "## Overview\n\nFor this assignment you will implement a circular, array-backed queue data structure.\n\nIn the following class, which you are to complete, the backing array will be created and populated with `None`s in the `__init__` method, and the `head` and `tail` indexes set to sentinel values (you shouldn't need to modify `__init__`). Enqueueing and Dequeueing items will take place at the tail and head, with `tail` and `head` tracking the position of the most recently enqueued item and that of the next item to dequeue, respectively. To simplify testing, your implementation should make sure that when dequeuing an item its slot in the array is reset to `None`, and when the queue is emptied its `head` and `tail` attributes should be set to `-1`.\n\nBecause of the fixed size backing array, the `enqueue` operation is defined to raise a `RuntimeError` when the queue is full — the same exception should be raised when `dequeue` is called on an empty queue.\n\nFinally, the `resize` method will allow the array underlying the queue to be increased in size. It is up to you how to implement this (you can either leave the elements in their current positions, though this may require \"unwrapping\" elements, or you can simply move all elements towards the front of the array). You may assume that `resize` will only be called with a value greater than the current length of the underlying array."
    },
    {
      "metadata": {
        "trusted": true
      },
      "cell_type": "code",
      "source": "def dequeue(self):\n        if self.empty():\n            raise RuntimeError\n        if self.head == self.tail:\n            out = self.data[self.head]\n            self.head = -1\n            self.tail = -1\n            return out\n        if self.head == len(self.data):\n            self.head = 0\n            out = self.data[self.head]\n            self.data[self.head] = None\n            self.head += 1\n        else:\n            out = self.data[self.head]\n            self.data[self.head] = None\n            self.head += 1\n        return out",
      "execution_count": 248,
      "outputs": []
    },
    {
      "metadata": {
        "deletable": false,
        "id": "queue",
        "nbgrader": {
          "grade": false,
          "grade_id": "queue",
          "locked": false,
          "schema_version": 1,
          "solution": true
        },
        "starter_code": "class Queue:\n    def __init__(self, limit=10):\n        self.data = [None] * limit\n        self.head = -1\n        self.tail = -1\n\n    \n\n    def enqueue(self, val):\n        \n        \n    def dequeue(self):\n        \n    \n    def resize(self, newsize):\n        assert(len(self.data) < newsize)\n        \n    \n    def empty(self):\n        \n    \n    def __bool__(self):\n        return not self.empty()\n    \n    def __str__(self):\n        if not(self):\n            return ''\n        return ', '.join(str(x) for x in self)\n    \n    def __repr__(self):\n        return str(self)\n    \n    def __iter__(self):\n        ",
        "state": "graded",
        "trusted": true
      },
      "cell_type": "code",
      "source": "class Queue:\n    def __init__(self, limit=10):\n        self.data = [None] * limit\n        self.head = -1\n        self.tail = -1\n\n    def enqueue(self, val):\n        for x in self.data:\n            if x == None:\n                break\n        else:\n            raise RuntimeError\n        if self.head == -1 and self.tail == -1:\n            self.head = 0\n            self.tail = 0\n            self.data[self.tail] = val\n        elif self.tail == len(self.data) - 1 and self.head != 0:\n            self.tail = 0\n            self.data[self.tail] = val\n        else:\n            self.tail += 1\n            self.data[self.tail] = val\n        \n    def dequeue(self):\n        if self.empty():\n            raise RuntimeError\n        if self.head == self.tail:\n            out = self.data[self.head]\n            self.data[self.head] = None\n            self.head = -1\n            self.tail = -1\n            return out\n        if self.head == len(self.data):\n            self.head = 0\n            out = self.data[self.head]\n            self.data[self.head] = None\n            self.head += 1\n        else:\n            out = self.data[self.head]\n            self.data[self.head] = None\n            self.head += 1\n        return out\n    \n    def resize(self, newsize):\n        assert(len(self.data) < newsize)\n        size = len(self.data)\n        out = [None] * newsize\n        idx = self.head\n        nidx = 0\n        count = 0\n        while count != size:\n            if idx != len(self.data):\n                out[nidx] = self.data[idx]\n                nidx += 1\n            else:\n                idx = 0\n                out[nidx] = self.data[idx]\n                nidx += 1\n            count += 1\n            idx += 1\n        count = 0\n        for x in out:\n            if x != None:\n                count += 1\n        self.head = 0\n        self.tail = size - 1\n        self.data = out\n        \n    def empty(self):\n        for x in self.data:\n            if x != None:\n                return False\n        return True\n    \n    def __bool__(self):\n        return not self.empty()\n    \n    def __str__(self):\n        if not(self):\n            return ''\n        return ', '.join(str(x) for x in self)\n    \n    def __repr__(self):\n        return str(self)\n    \n    def __iter__(self):\n        idx = self.head\n        for i in range(len(self.data)):\n            if self.data[idx] != None and idx != len(self.data):\n                yield self.data[idx]\n            idx = idx + 1\n            if idx == len(self.data):\n                idx = 0\n            ",
      "execution_count": 249,
      "outputs": []
    },
    {
      "metadata": {
        "deletable": false,
        "editable": false,
        "id": "queue_tests_1",
        "nbgrader": {
          "grade": true,
          "grade_id": "queue_tests_1",
          "locked": true,
          "points": 5,
          "schema_version": 1,
          "solution": false
        },
        "state": "read_only",
        "trusted": true
      },
      "cell_type": "code",
      "source": "# (5 points)\n\nfrom unittest import TestCase\ntc = TestCase()\n\nq = Queue(5)\ntc.assertEqual(q.data, [None] * 5)\n\nfor i in range(5):\n    q.enqueue(i)\n    \nwith tc.assertRaises(RuntimeError):\n    q.enqueue(5)\n\nfor i in range(5):\n    tc.assertEqual(q.dequeue(), i)\n    \ntc.assertTrue(q.empty())",
      "execution_count": 250,
      "outputs": []
    },
    {
      "metadata": {
        "deletable": false,
        "editable": false,
        "id": "queue_tests_2",
        "nbgrader": {
          "grade": true,
          "grade_id": "queue_tests_2",
          "locked": true,
          "points": 5,
          "schema_version": 1,
          "solution": false
        },
        "state": "read_only",
        "trusted": true
      },
      "cell_type": "code",
      "source": "# (5 points)\n\nfrom unittest import TestCase\ntc = TestCase()\n\nq = Queue(10)\n\nfor i in range(6):\n    q.enqueue(i)\n    \ntc.assertEqual(q.data.count(None), 4)\n\nfor i in range(5):\n    q.dequeue()\n    \ntc.assertFalse(q.empty())\ntc.assertEqual(q.data.count(None), 9)\ntc.assertEqual(q.head, q.tail)\ntc.assertEqual(q.head, 5)\n\nfor i in range(9):\n    q.enqueue(i)\n\nwith tc.assertRaises(RuntimeError):\n    q.enqueue(10)\n\nfor x, y in zip(q, [5] + list(range(9))):\n    tc.assertEqual(x, y)\n    \ntc.assertEqual(q.dequeue(), 5)\nfor i in range(9):\n    tc.assertEqual(q.dequeue(), i)\n\ntc.assertTrue(q.empty())",
      "execution_count": 251,
      "outputs": []
    },
    {
      "metadata": {
        "deletable": false,
        "editable": false,
        "id": "queue_tests_3",
        "nbgrader": {
          "grade": true,
          "grade_id": "queue_tests_3",
          "locked": true,
          "points": 5,
          "schema_version": 1,
          "solution": false
        },
        "state": "read_only",
        "trusted": true,
        "scrolled": true
      },
      "cell_type": "code",
      "source": "# (5 points)\n\nfrom unittest import TestCase\ntc = TestCase()\n\nq = Queue(5)\nfor i in range(5):\n    q.enqueue(i)\nfor i in range(4):\n    q.dequeue()\nfor i in range(5, 9):\n    q.enqueue(i)\n    \nwith tc.assertRaises(RuntimeError):\n    q.enqueue(10)\n\nq.resize(10)\n\nfor x, y in zip(q, range(4, 9)):\n    tc.assertEqual(x, y)\n    \nfor i in range(9, 14):\n    q.enqueue(i)\n\nfor i in range(4, 14):\n    tc.assertEqual(q.dequeue(), i)\n    \ntc.assertTrue(q.empty())\ntc.assertEqual(q.head, -1)",
      "execution_count": 252,
      "outputs": []
    }
  ],
  "metadata": {
    "kernelspec": {
      "name": "python3",
      "display_name": "Python 3",
      "language": "python"
    },
    "language_info": {
      "name": "python",
      "version": "3.7.3",
      "mimetype": "text/x-python",
      "codemirror_mode": {
        "name": "ipython",
        "version": 3
      },
      "pygments_lexer": "ipython3",
      "nbconvert_exporter": "python",
      "file_extension": ".py"
    },
    "mimir": {
      "project_id": "5ebae0e9-88f4-48cf-965c-d55aff8e500c",
      "last_submission_id": "01a2c5e7-ac10-4756-b985-43de5a024e3a",
      "data": {}
    },
    "varInspector": {
      "window_display": false,
      "cols": {
        "lenName": 16,
        "lenType": 16,
        "lenVar": 40
      },
      "kernels_config": {
        "python": {
          "library": "var_list.py",
          "delete_cmd_prefix": "del ",
          "delete_cmd_postfix": "",
          "varRefreshCmd": "print(var_dic_list())"
        },
        "r": {
          "library": "var_list.r",
          "delete_cmd_prefix": "rm(",
          "delete_cmd_postfix": ") ",
          "varRefreshCmd": "cat(var_dic_list()) "
        }
      },
      "types_to_exclude": [
        "module",
        "function",
        "builtin_function_or_method",
        "instance",
        "_Feature"
      ]
    }
  },
  "nbformat": 4,
  "nbformat_minor": 2
}