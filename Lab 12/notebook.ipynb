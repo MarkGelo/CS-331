{
  "cells": [
    {
      "metadata": {
        "state": "normal"
      },
      "cell_type": "markdown",
      "source": "# Lab 12: AVLTree\n\n## Overview\n\nIn this notebook you will complete the following implementation of the balanced (AVL) binary search tree. Note that you should *not* be implementing the map-based API described in the plain (unbalanced) BSTree notebook — i.e., nodes in the AVLTree will only contain a single value."
    },
    {
      "metadata": {
        "deletable": false,
        "id": "avltree",
        "nbgrader": {
          "grade": false,
          "grade_id": "avltree",
          "locked": false,
          "schema_version": 1,
          "solution": true
        },
        "starter_code": "class AVLTree:\n    class Node:\n        def __init__(self, val, left=None, right=None):\n            self.val = val\n            self.left = left\n            self.right = right\n\n        def rotate_right(self):\n            n = self.left\n            self.val, n.val = n.val, self.val\n            self.left, n.left, self.right, n.right = n.left, n.right, n, self.right\n            \n        def rotate_left(self):\n            \n        \n        @staticmethod\n        def height(n):\n            if not n:\n                return 0\n            else:\n                return max(1+AVLTree.Node.height(n.left), 1+AVLTree.Node.height(n.right))\n\n    def __init__(self):\n        self.size = 0\n        self.root = None\n            \n    @staticmethod\n    def rebalance(t):\n        \n            \n    def add(self, val):\n        assert(val not in self)\n        \n        \n    def __delitem__(self, val):\n        assert(val in self)\n        \n        \n    def __contains__(self, val):\n        def contains_rec(node):\n            if not node:\n                return False\n            elif val < node.val:\n                return contains_rec(node.left)\n            elif val > node.val:\n                return contains_rec(node.right)\n            else:\n                return True\n        return contains_rec(self.root)\n    \n    def __len__(self):\n        return self.size\n    \n    def __iter__(self):\n        def iter_rec(node):\n            if node:\n                yield from iter_rec(node.left)\n                yield node.val\n                yield from iter_rec(node.right)\n        yield from iter_rec(self.root)\n        \n    def pprint(self, width=64):\n        \"\"\"Attempts to pretty-print this tree's contents.\"\"\"\n        height = self.height()\n        nodes  = [(self.root, 0)]\n        prev_level = 0\n        repr_str = ''\n        while nodes:\n            n,level = nodes.pop(0)\n            if prev_level != level:\n                prev_level = level\n                repr_str += '\\n'\n            if not n:\n                if level < height-1:\n                    nodes.extend([(None, level+1), (None, level+1)])\n                repr_str += '{val:^{width}}'.format(val='-', width=width//2**level)\n            elif n:\n                if n.left or level < height-1:\n                    nodes.append((n.left, level+1))\n                if n.right or level < height-1:\n                    nodes.append((n.right, level+1))\n                repr_str += '{val:^{width}}'.format(val=n.val, width=width//2**level)\n        print(repr_str)\n    \n    def height(self):\n        \"\"\"Returns the height of the longest branch of the tree.\"\"\"\n        def height_rec(t):\n            if not t:\n                return 0\n            else:\n                return max(1+height_rec(t.left), 1+height_rec(t.right))\n        return height_rec(self.root)",
        "state": "graded",
        "trusted": true
      },
      "cell_type": "code",
      "source": "class AVLTree:\n    class Node:\n        def __init__(self, val, left=None, right=None):\n            self.val = val\n            self.left = left\n            self.right = right\n\n        def rotate_right(self):\n            n = self.left\n            self.val, n.val = n.val, self.val\n            self.left, n.left, self.right, n.right = n.left, n.right, n, self.right\n            \n        def rotate_left(self):\n            n = self.right\n            self.val, n.val = n.val, self.val\n            self.right, n.right, self.left, n.left = n.right, n.left, n, self.left\n        \n        @staticmethod\n        def height(n):\n            if not n:\n                return 0\n            else:\n                return max(1+AVLTree.Node.height(n.left), 1+AVLTree.Node.height(n.right))\n\n    def __init__(self):\n        self.size = 0\n        self.root = None\n            \n    @staticmethod\n    def rebalance(t):\n        if AVLTree.Node.height(t.left) > AVLTree.Node.height(t.right):\n            if AVLTree.Node.height(t.left.left) >= AVLTree.Node.height(t.left.right):\n                # left-left\n                # print('left-left imbalance detected')\n                t.rotate_right()\n            else:\n                # left-right\n                # print('left-right imbalance detected')\n                t.left.rotate_left()\n                t.rotate_right()\n        else:\n            if AVLTree.Node.height(t.right.right) >= AVLTree.Node.height(t.right.left):\n                t.rotate_left()\n            else:\n                t.right.rotate_right()\n                t.rotate_left()\n            \n    def add(self, val):\n        assert(val not in self)\n        def add_rec(node):\n            if not node:\n                return AVLTree.Node(val)\n            elif val < node.val:\n                node.left = add_rec(node.left)\n            elif val > node.val:\n                node.right = add_rec(node.right)\n            if abs(AVLTree.Node.height(node.left) - AVLTree.Node.height(node.right)) >= 2:\n                AVLTree.rebalance(node)\n            return node\n        self.root = add_rec(self.root)\n        self.size += 1\n                \n        \n    def __delitem__(self, val):\n        assert(val in self)\n        out = []\n        def delitem_rec(node):\n            if val < node.val:\n                node.left = delitem_rec(node.left)\n            elif val > node.val:\n                node.right = delitem_rec(node.right)\n            else:\n                if not node.left and not node.right:\n                    return None\n                elif node.left and not node.right:\n                    return node.left\n                elif node.right and not node.left:\n                    return node.right\n                else:\n                    # remove the largest value from the left subtree (t) as a replacement\n                    # for the root value of this tree\n                    t = node.left\n                    out.append(t)\n                    if not t.right:\n                        node.val = t.val\n                        node.left = t.left                        \n                    else:\n                        n = t\n                        while n.right.right:\n                            n = n.right\n                            out.append(n)\n                        out.append(n) #this is the first left and right most\n                        t = n.right\n                        n.right = t.left\n                        node.val = t.val\n                    while(out):\n                        check = out.pop()\n                        if abs(AVLTree.Node.height(check.left) - AVLTree.Node.height(check.right)) >= 2:\n                            AVLTree.rebalance(check)\n            if abs(AVLTree.Node.height(node.left) - AVLTree.Node.height(node.right)) >= 2:\n                AVLTree.rebalance(node)\n            return node\n                        \n        self.root = delitem_rec(self.root)\n        self.size -= 1\n        \n    def __contains__(self, val):\n        def contains_rec(node):\n            if not node:\n                return False\n            elif val < node.val:\n                return contains_rec(node.left)\n            elif val > node.val:\n                return contains_rec(node.right)\n            else:\n                return True\n        return contains_rec(self.root)\n    \n    def __len__(self):\n        return self.size\n    \n    def __iter__(self):\n        def iter_rec(node):\n            if node:\n                yield from iter_rec(node.left)\n                yield node.val\n                yield from iter_rec(node.right)\n        yield from iter_rec(self.root)\n        \n    def pprint(self, width=64):\n        \"\"\"Attempts to pretty-print this tree's contents.\"\"\"\n        height = self.height()\n        nodes  = [(self.root, 0)]\n        prev_level = 0\n        repr_str = ''\n        while nodes:\n            n,level = nodes.pop(0)\n            if prev_level != level:\n                prev_level = level\n                repr_str += '\\n'\n            if not n:\n                if level < height-1:\n                    nodes.extend([(None, level+1), (None, level+1)])\n                repr_str += '{val:^{width}}'.format(val='-', width=width//2**level)\n            elif n:\n                if n.left or level < height-1:\n                    nodes.append((n.left, level+1))\n                if n.right or level < height-1:\n                    nodes.append((n.right, level+1))\n                repr_str += '{val:^{width}}'.format(val=n.val, width=width//2**level)\n        print(repr_str)\n    \n    def height(self):\n        \"\"\"Returns the height of the longest branch of the tree.\"\"\"\n        def height_rec(t):\n            if not t:\n                return 0\n            else:\n                return max(1+height_rec(t.left), 1+height_rec(t.right))\n        return height_rec(self.root)",
      "execution_count": 8,
      "outputs": []
    },
    {
      "metadata": {
        "deletable": false,
        "editable": false,
        "id": "ll_test",
        "nbgrader": {
          "grade": true,
          "grade_id": "ll_test",
          "locked": true,
          "points": 3,
          "schema_version": 1,
          "solution": false
        },
        "state": "read_only",
        "trusted": true
      },
      "cell_type": "code",
      "source": "# LL-fix (simple) test\n# 3 points\n\nfrom unittest import TestCase\n\ndef height(t):\n    if not t:\n        return 0\n    else:\n        return max(1+height(t.left), 1+height(t.right))\n\ntc = TestCase()\nt = AVLTree()\n\nfor x in [3, 2, 1]:\n    t.add(x)\n    \ntc.assertEqual(height(t.root), 2)\ntc.assertEqual([t.root.left.val, t.root.val, t.root.right.val], [1, 2, 3])",
      "execution_count": 9,
      "outputs": []
    },
    {
      "metadata": {
        "deletable": false,
        "editable": false,
        "id": "rr_test",
        "nbgrader": {
          "grade": true,
          "grade_id": "rr_test",
          "locked": true,
          "points": 3,
          "schema_version": 1,
          "solution": false
        },
        "state": "read_only",
        "trusted": true
      },
      "cell_type": "code",
      "source": "# RR-fix (simple) test\n# 3 points\n\nfrom unittest import TestCase\n\ndef height(t):\n    if not t:\n        return 0\n    else:\n        return max(1+height(t.left), 1+height(t.right))\n\ntc = TestCase()\nt = AVLTree()\n\nfor x in [1, 2, 3]:\n    t.add(x)\n    \ntc.assertEqual(height(t.root), 2)\ntc.assertEqual([t.root.left.val, t.root.val, t.root.right.val], [1, 2, 3])",
      "execution_count": 10,
      "outputs": []
    },
    {
      "metadata": {
        "deletable": false,
        "editable": false,
        "id": "lr_test",
        "nbgrader": {
          "grade": true,
          "grade_id": "lr_test",
          "locked": true,
          "points": 3,
          "schema_version": 1,
          "solution": false
        },
        "state": "read_only",
        "trusted": true
      },
      "cell_type": "code",
      "source": "# LR-fix (simple) test\n# 3 points\n\nfrom unittest import TestCase\n\ndef height(t):\n    if not t:\n        return 0\n    else:\n        return max(1+height(t.left), 1+height(t.right))\n\ntc = TestCase()\nt = AVLTree()\n\nfor x in [3, 1, 2]:\n    t.add(x)\n    \ntc.assertEqual(height(t.root), 2)\ntc.assertEqual([t.root.left.val, t.root.val, t.root.right.val], [1, 2, 3])",
      "execution_count": 11,
      "outputs": []
    },
    {
      "metadata": {
        "deletable": false,
        "editable": false,
        "id": "rl_test",
        "nbgrader": {
          "grade": true,
          "grade_id": "rl_test",
          "locked": true,
          "points": 3,
          "schema_version": 1,
          "solution": false
        },
        "state": "read_only",
        "trusted": true
      },
      "cell_type": "code",
      "source": "# RL-fix (simple) test\n# 3 points\n\nfrom unittest import TestCase\n\ndef height(t):\n    if not t:\n        return 0\n    else:\n        return max(1+height(t.left), 1+height(t.right))\n\ntc = TestCase()\nt = AVLTree()\n\nfor x in [1, 3, 2]:\n    t.add(x)\n    \ntc.assertEqual(height(t.root), 2)\ntc.assertEqual([t.root.left.val, t.root.val, t.root.right.val], [1, 2, 3])",
      "execution_count": 12,
      "outputs": []
    },
    {
      "metadata": {
        "deletable": false,
        "editable": false,
        "id": "sort_test",
        "nbgrader": {
          "grade": true,
          "grade_id": "sort_test",
          "locked": true,
          "points": 15,
          "schema_version": 1,
          "solution": false
        },
        "state": "read_only",
        "trusted": true
      },
      "cell_type": "code",
      "source": "# ensure key order is maintained after insertions and removals\n# 10 points\n\nfrom unittest import TestCase\nimport random\n\ntc = TestCase()\nvals = list(range(0, 100000000, 333333))\nrandom.shuffle(vals)\n\nt = AVLTree()\nfor x in vals:\n    t.add(x)\n\nfor _ in range(len(vals) // 3):\n    to_rem = vals.pop(random.randrange(len(vals)))\n    del t[to_rem]\n\nvals.sort()\n\nfor i,val in enumerate(t):\n    tc.assertEqual(val, vals[i])",
      "execution_count": 13,
      "outputs": []
    },
    {
      "metadata": {
        "deletable": false,
        "editable": false,
        "id": "balance_test",
        "nbgrader": {
          "grade": true,
          "grade_id": "balance_test",
          "locked": true,
          "points": 15,
          "schema_version": 1,
          "solution": false
        },
        "state": "read_only",
        "trusted": true
      },
      "cell_type": "code",
      "source": "# stress testing\n# 10 points\n\nfrom unittest import TestCase\nimport random\n\ntc = TestCase()\n\ndef traverse(t, fn):\n    if t:\n        fn(t)\n        traverse(t.left, fn)\n        traverse(t.right, fn)\n\ndef height(t):\n    if not t:\n        return 0\n    else:\n        return max(1+height(t.left), 1+height(t.right))\n    \ndef check_balance(t):\n    tc.assertLess(abs(height(t.left) - height(t.right)), 2, 'Tree is out of balance')\n\nt = AVLTree()\nvals = list(range(1000))\nrandom.shuffle(vals)\nfor i in range(len(vals)):\n    t.add(vals[i])\n    for x in vals[:i+1]:\n        tc.assertIn(x, t, 'Element added not in tree')\n    traverse(t.root, check_balance)\n\nrandom.shuffle(vals)\nfor i in range(len(vals)):\n    del t[vals[i]]\n    for x in vals[i+1:]:\n        tc.assertIn(x, t, 'Incorrect element removed from tree')\n    for x in vals[:i+1]:\n        tc.assertNotIn(x, t, 'Element removed still in tree')\n    traverse(t.root, check_balance)",
      "execution_count": null,
      "outputs": []
    }
  ],
  "metadata": {
    "kernelspec": {
      "name": "python3",
      "display_name": "Python 3",
      "language": "python"
    },
    "language_info": {
      "name": "python",
      "version": "3.7.3",
      "mimetype": "text/x-python",
      "codemirror_mode": {
        "name": "ipython",
        "version": 3
      },
      "pygments_lexer": "ipython3",
      "nbconvert_exporter": "python",
      "file_extension": ".py"
    },
    "mimir": {
      "project_id": "e8d38c73-bc5c-4f29-b9a0-5cd3c5e9f133",
      "last_submission_id": "",
      "data": {}
    },
    "varInspector": {
      "window_display": false,
      "cols": {
        "lenName": 16,
        "lenType": 16,
        "lenVar": 40
      },
      "kernels_config": {
        "python": {
          "library": "var_list.py",
          "delete_cmd_prefix": "del ",
          "delete_cmd_postfix": "",
          "varRefreshCmd": "print(var_dic_list())"
        },
        "r": {
          "library": "var_list.r",
          "delete_cmd_prefix": "rm(",
          "delete_cmd_postfix": ") ",
          "varRefreshCmd": "cat(var_dic_list()) "
        }
      },
      "types_to_exclude": [
        "module",
        "function",
        "builtin_function_or_method",
        "instance",
        "_Feature"
      ]
    }
  },
  "nbformat": 4,
  "nbformat_minor": 2
}